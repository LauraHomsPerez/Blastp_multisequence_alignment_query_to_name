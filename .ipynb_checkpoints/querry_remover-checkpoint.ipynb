{
 "cells": [
  {
   "cell_type": "code",
   "execution_count": 28,
   "metadata": {},
   "outputs": [
    {
     "name": "stdout",
     "output_type": "stream",
     "text": [
      "{'Query_18792': 'Lactobacillus sp. HT111-2', 'Query_18793': 'Halobacillus karajensis', 'Query_18794': 'Novosphingobium resinovorum', 'Query_18795': 'Asaia platycodi SF2.', 'Query_18796': 'Terribacillus goriensis', 'Query_18797': 'Bacillus indicus', 'Query_18798': 'Tatumella ptyseos ATCC 33301', 'Query_18799': 'Paenibacillus stellifer', 'Query_18800': 'Sphingomonas taxi', 'Query_18801': 'Cellulomonas cellasea DSM 20118', 'Query_18802': 'Pontibacillus chungwhensis BH030062', 'Query_18803': 'Pontibacillus halophilus JSM 076056 = DSM 19796', 'Query_18804': 'Paraburkholderia sacchari', 'Query_18805': 'Halobacillus sp. BBL2006', 'Query_18806': 'Novosphingobium malaysiense', 'Query_18807': 'Novosphingobium subterraneum', 'Query_18808': 'Novosphingobium subterraneum', 'Query_18809': 'Azotobacter chroococcum NCIMB 8003', 'Query_18810': 'Sphingomonas hengshuiensis', 'Query_18811': 'Paenibacillus beijingensis', 'Query_18812': 'Paenibacillus beijingensis', 'Query_18813': 'Tanticharoenia sakaeratensis NBRC 103193', 'Query_18814': 'Tanticharoenia sakaeratensis NBRC 103193', 'Query_18815': 'Acetobacter aceti NBRC 14818', 'Query_18816': 'Paenibacillus riograndensis SBR5', 'Query_18817': 'Streptomyces xiamenensis', 'Query_18818': 'Altererythrobacter atlanticus', 'Query_18819': 'Brenneria goodwinii', 'Query_18820': 'Erythrobacter marinus', 'Query_18821': 'Bacillus filamentosus', 'Query_18822': 'Bacillus circulans', 'Query_18823': 'Bacillus marisflavi', 'Query_18824': 'Bacillus koreensis', 'Query_18825': 'Bacillus sp. FJAT-22058', 'Query_18826': 'Microbacterium trichothecenolyticum', 'Query_18827': 'Bacillus gobiensis', 'Query_18828': 'Bacillus gobiensis', 'Query_18829': 'Bacillus gobiensis', 'Query_18830': 'Brachybacterium sp. SW0106-09', 'Query_18831': 'Novosphingobium sp. AAP83', 'Query_18832': 'Novosphingobium sp. ST904', 'Query_18833': 'Novosphingobium sp. AAP1', 'Query_18834': 'Sphingopyxis macrogoltabida ', 'Query_18835': 'Sphingobium sp. Leaf2', 'Query_18836': 'Sphingomonas sp. Leaf33', 'Query_18837': 'Sphingomonas sp. Leaf42', 'Query_18838': 'Sphingomonas sp. Leaf34', 'Query_18839': 'Sphingomonas sp. Leaf33', 'Query_18840': 'Paenibacillus sp. Root444D2', 'Query_18841': 'Sphingomonas sp. Root710', 'Query_18842': 'Lactobacillus psittaci DSM 1535', 'Query_18843': 'Lactobacillus hayakitensis DSM 18933 = JCM 14209', 'Query_18844': 'Arthrobacter sp. Leaf69', 'Query_18845': 'Sporolactobacillus inulinus CASD', 'Query_18846': 'Fictibacillus enclensis', 'Query_18847': 'Bacillus sp. SGD-V-76', 'Query_18848': 'Sphingomonas sp. WG', 'Query_18849': 'Sphingomonas sp. WG', 'Query_18850': 'Novosphingobium sp. FSW06-99', 'Query_18851': 'Novosphingobium sp. Fuku2-ISO-50', 'Query_18852': 'Sphingomonas yabuuchiae', 'Query_18853': 'Paenibacillus antarcticus', 'Query_18854': 'Paenibacillus bovis', 'Query_18855': 'Sphingomonas melonis TY', 'Query_18856': 'Bacillus sp. SJS', 'Query_18857': 'Bacillus litoralis', 'Query_18858': 'Sphingobium sp. TCM1', 'Query_18859': 'Cryobacterium arcticum', 'Query_18860': 'Vibrio natriegens', 'Query_18861': 'Sphingobium sp. RAC03', 'Query_18862': 'Altererythrobacter namhicola', 'Query_18863': 'Arthrobacter sp. ZXY-2', 'Query_18864': 'Paenibacillus sp. TI45-13ar', 'Query_18865': 'Arthrobacter sp. SW1', 'Query_18866': 'Arthrobacter sp. SW1', 'Query_18867': 'Streptococcus henry', 'Query_18868': 'Leuconostocaceae bacterium R-53105', 'Query_18869': 'Leuconostocaceae bacterium R-53105', 'Query_18870': 'Sphingomonas sp. YR710', 'Query_18871': 'Fontibacillus panacisegetis', 'Query_18872': 'Alteribacillus bidgolensis', 'Query_18873': 'Nonomuraea jiangxiensis', 'Query_18874': 'Nonomuraea maritim', 'Query_18875': 'Nonomuraea maritima', 'Query_18876': 'Bacillus salsus', 'Query_18877': 'Bacillus salsus', 'Query_18878': 'Bacillus salsus', 'Query_18879': 'Bacillus caseinilyticus', 'Query_18880': 'Lonsdalea quercina', 'Query_18881': 'Nonomuraea solani', 'Query_18882': 'Nonomuraea pusilla', 'Query_18883': 'Sphingobium sp. YR768', 'Query_18884': 'Nonomuraea wenchangensis', 'Query_18885': 'Fructobacillus durionis', 'Query_18886': 'Fructobacillus durionis', 'Query_18887': 'Fructobacillus durioni', 'Query_18888': 'Fructobacillus durionis', 'Query_18889': 'Gracilibacillus orientalis', 'Query_18890': 'Vibrio aerogenes CECT 7868', 'Query_18891': 'Rhodovulum sp. ES.010', 'Query_18892': 'Domibacillus enclensis', 'Query_18893': 'Microbispora rose', 'Query_18894': 'Novosphingobium sp. B1', 'Query_18895': 'Kibdelosporangium aridum', 'Query_18896': 'Aquiflexum balticum DSM 16537', 'Query_18897': 'Novosphingobium sp. MD-1', 'Query_18898': 'Novosphingobium sp. MD-1', 'Query_18899': 'Paraburkholderia caryophylli', 'Query_18900': 'Bacillus krulwichiae', 'Query_18901': 'Bacillus krulwichiae', 'Query_18902': 'Novosphingobium guangzhouense', 'Query_18903': 'Novosphingobium kunmingense', 'Query_18904': 'Clostridium vincentii', 'Query_18905': 'Nonomuraea fuscirosea', 'Query_18906': 'Tetrasphaera remsis', 'Query_18907': 'Hasllibacter halocynthiae', 'Query_18908': 'Paenibacillus sp. OV19', 'Query_18909': 'Paenibacillus sp. OV191', 'Query_18910': 'Novosphingobium sp. GV010', 'Query_18911': 'Rathayibacter iranicus NCPPB 2253 = VKM Ac-1602', 'Query_18912': 'Zymobacter palmae', 'Query_18913': 'Zymobacter palmae', 'Query_18914': 'Zymobacter palmae', 'Query_18915': 'Brenneria salicis ATCC 15712 = DSM 30166', 'Query_18916': 'Paenibacillus prosopidis', 'Query_18917': 'Gluconacetobacter liquefaciens ', 'Query_18918': 'Kutzneria buriramensis', 'Query_18919': 'Paenibacillus baekrokdamisoli', 'Query_18920': 'Actinomyces slackii', 'Query_18921': 'Cellulomonas sp. TKZ-21', 'Query_18922': 'Actinomyces howellii', 'Query_18923': 'Microbacterium telephonicum', 'Query_18924': 'Arthrobacter sp. (strain FB24)', 'Query_18925': 'Paenarthrobacter aurescens (strain TC1)', 'Query_18926': 'Burkholderia vietnamiensis (strain G4 / LMG 22486) (Burkholderia cepacia (strain R1808))', 'Query_18927': 'Gluconacetobacter diazotrophicus (strain ATCC 49037 / DSM 5601 / PAl5)', 'Query_18928': 'Erysipelatoclostridium ramosum DSM 1402', 'Query_18929': 'Caulobacter sp. (strain K31)', 'Query_18930': 'Beijerinckia indica subsp. indica (strain ATCC 9039 / DSM 1715 / NCIB 8712)', 'Query_18931': 'Paraburkholderia phymatum (strain DSM 17167 / CIP 108236 / LMG 21445 / STM815) (Burkholderia phymatum)', 'Query_18932': 'Erwinia tasmaniensis (strain DSM 17950 / CIP 109463 / Et1/99)', 'Query_18933': 'Bacillus megaterium (strain ATCC 12872 / QMB1551)', 'Query_18934': 'Bacillus megaterium (strain ATCC 12872 / QMB1551)', 'Query_18935': 'Paenibacillus polymyxa (strain SC2) (Bacillus polymyxa)', 'Query_18936': 'Sphingobium chlorophenolicum L-1', 'Query_18937': 'Novosphingobium sp. PP1Y', 'Query_18938': 'Actinomyces sp. oral taxon 448 str. F0400', 'Query_18939': 'Actinomyces sp. oral taxon 175 str. F0384', 'Query_18940': 'Lactobacillus sanfranciscensis (strain TMW 1.1304)', 'Query_18941': 'Novosphingobium pentaromativorans US6-1', 'Query_18942': 'Gluconobacter morbifer G707', 'Query_18943': 'Brenneria sp. EniD312', 'Query_18944': 'Pseudomonas fluorescens (strain SBW25)', 'Query_18945': 'Oenococcus kitaharae DSM 17330', 'Query_18946': 'Halobacillus sp. BAB-2008', 'Query_18947': 'Halobacillus sp. BAB-2008', 'Query_18948': 'Halobacillus sp. BAB-2008', 'Query_18949': 'Halobacillus sp. BAB-2008', 'Query_18950': 'Arthrobacter nitrophenolicus', 'Query_18951': 'Sphingobium japonicum BiD32', 'Query_18952': 'Rahnella aquatilis (strain ATCC 33071 / DSM 4594 / JCM 1683 / NBRC 105701 / NCIMB 13365 / CIP 78.65)', 'Query_18953': 'Bacillus subtilis (strain 168)', 'Query_18954': 'Zymomonas mobilis subsp. mobilis (strain ATCC 31821 / ZM4 / CP4)', 'Query_18955': 'Streptococcus mutans serotype c (strain ATCC 700610 / UA159)', 'Query_18956': 'Sphingomonas sp. (strain SKA58)', 'Query_18957': 'Novosphingobium aromaticivorans (strain ATCC 700278 / DSM 12444 / CIP 105152 / NBRC 16084 / F199)', 'Query_18958': 'Erythrobacter litoralis (strain HTCC2594)', 'Query_18959': 'Gluconobacter oxydans (strain 621H) (Gluconobacter suboxydans)', 'Query_18960': 'Bacillus licheniformis (strain ATCC 14580 / DSM 13 / JCM 2505 / NBRC 12200 / NCIMB 9375 / NRRL NRS-1264 / Gibson 46)', 'Query_18961': 'Pseudomonas syringae pv. tomato (strain ATCC BAA-871 / DC3000)', 'Query_18962': 'Pseudomonas syringae pv. tomato (strain ATCC BAA-871 / DC3000)', 'Query_18963': 'Pseudomonas syringae pv. tomato (strain ATCC BAA-871 / DC3000)', 'Query_18964': 'Clostridium acetobutylicum (strain ATCC 824 / DSM 792 / JCM 1419 / LMG 5710 / VKM B-1787)', 'Query_18965': 'Clostridium acetobutylicum (strain ATCC 824 / DSM 792 / JCM 1419 / LMG 5710 / VKM B-1787)', 'Query_18966': 'Clostridium pasteurianum DSM 525 = ATCC 6013', 'Query_18967': 'Clostridium pasteurianum DSM 525 = ATCC 6013', 'Query_18968': 'Clostridium pasteurianum DSM 525 = ATCC 6013', 'Query_18969': 'Clostridium pasteurianum DSM 525 = ATCC 6013', 'Query_18970': 'Cupriavidus sp. HPC(L)', 'Query_18971': 'Acinetobacter nectaris CIP 110549', 'Query_18972': 'Sporolactobacillus laevolacticus DSM 442', 'Query_18973': 'Sporolactobacillus laevolacticus DSM 442', 'Query_18974': 'Streptomyces roseochromogenus subsp. oscitans DS 12.976', 'Query_18975': 'Roseibacterium elongatum DSM 19469', 'Query_18976': 'Paenibacillus sabinae T2', 'Query_18977': 'Paenibacillus sabinae T27'}\n"
     ]
    }
   ],
   "source": [
    "input_file = open(\"input.txt\",\"r\")                             # Open the file and read it\n",
    "line_in_file = input_file.readlines()                          # To read each the whole file line by line\n",
    "dictionary_names={}                                            # Creating an empty dictionary\n",
    "\n",
    "for line in line_in_file: \n",
    "    if line.startswith('Subject'):                             # Reading only lines that start with \"Subject\"\n",
    "        \n",
    "        #print(line.find(\":\")+1)                               # Find the location of \":\" on the current line. Because o for loop, we'll get all of them.\n",
    "        #print(line.find(\"_\"))                                 # Find the location of \"_\"\n",
    "        #print( line[line.find(\":\")+1:line.find(\"_\")] )        # Cuts the line between characters \":\" and \"_\". The name of the bacteria\n",
    "        #print(line[line.find(\"Query\"):line.find(\"Length\")-1]) # Cuts the Query name\n",
    "        dictionary_names[line[line.find(\"Query\"):line.find(\"Length\")-1]] = line[line.find(\":\")+1:line.find(\"_\")]  # Adding Query num and bacteria names to dictionary\n",
    "print(dictionary_names)\n",
    "        \n",
    "        \n",
    "        \n",
    "        \n",
    "        \n",
    "\n",
    "\n",
    "    \n"
   ]
  },
  {
   "cell_type": "code",
   "execution_count": null,
   "metadata": {},
   "outputs": [],
   "source": []
  }
 ],
 "metadata": {
  "kernelspec": {
   "display_name": "Python 3",
   "language": "python",
   "name": "python3"
  },
  "language_info": {
   "codemirror_mode": {
    "name": "ipython",
    "version": 3
   },
   "file_extension": ".py",
   "mimetype": "text/x-python",
   "name": "python",
   "nbconvert_exporter": "python",
   "pygments_lexer": "ipython3",
   "version": "3.7.3"
  }
 },
 "nbformat": 4,
 "nbformat_minor": 2
}

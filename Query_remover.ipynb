{
 "cells": [
  {
   "cell_type": "code",
   "execution_count": 6,
   "metadata": {},
   "outputs": [
    {
     "name": "stdout",
     "output_type": "stream",
     "text": [
      "Press Enter to continue or Ctrl-z to stop\n",
      "Bacillus subtilis\n",
      "Press Enter to exit\n"
     ]
    },
    {
     "data": {
      "text/plain": [
       "''"
      ]
     },
     "execution_count": 6,
     "metadata": {},
     "output_type": "execute_result"
    }
   ],
   "source": [
    "input(\"Press Enter to continue or Ctrl-z to stop\")\n",
    "\n",
    "\n",
    "\n",
    "\n",
    "input_file = open(\"Bacillus_alignment_input.txt\",\"r\")          # Open the file and read it\n",
    "line_in_file = input_file.readlines()                          # To read each the whole file line by line\n",
    "dictionary_names={}                                            # Creating an empty dictionary\n",
    "output_file = open(\"Bacillus_alignment_names_2.txt\", \"w\")\n",
    "\n",
    "for line in line_in_file: \n",
    "    if line.startswith('Subject'):                             # Reading only lines that start with \"Subject\"\n",
    "        \n",
    "        #print(line.find(\":\")+1)                               # Find the location of \":\" on the current line. Because o for loop, we'll get all of them.\n",
    "        #print(line.find(\"_\"))                                 # Find the location of \"_\"\n",
    "        #print( line[line.find(\":\")+1:line.find(\"_\")] )        # Cuts the line between characters \":\" and \"_\". The name of the bacteria\n",
    "        #print(line[line.find(\"Query\"):line.find(\"Length\")-1]) # Cuts the Query name\n",
    "        dictionary_names[line[line.find(\"Query\"):line.find(\"Length\")-1]] = line[line.find(\":\")+1:line.find(\"_\")]  # Adding Query num and bacteria names to dictionary\n",
    "      \n",
    "    if line.startswith('Job Title'):\n",
    "        var_query_name=line[line.find(\"[\")+1:line.find(\"]\")]\n",
    "        print (var_query_name)\n",
    "    \n",
    "for line in line_in_file: \n",
    "    if line.startswith('Query_'):\n",
    "       # print(line[0:line.find(\" \")])\n",
    "       # print (dictionary_names[line[0:line.find(\" \")]] , end =\" \") \n",
    "       # print (line[line.find(\" \"):])\n",
    "\n",
    "        var_current_name=dictionary_names[line[0:line.find(\" \")]]\n",
    "        var_len_name=len(var_current_name)\n",
    "  \n",
    "        \n",
    "        output_file.write(var_current_name) \n",
    "        output_file.write(\" \" * (120 - var_len_name))\n",
    "        output_file.write(line[line.find(\" \")+2:])\n",
    "        #output_file.write(\"\\n\")\n",
    "        \n",
    "    if line.startswith('Query    '): \n",
    "        output_file.write(\"\\n\")\n",
    "        output_file.write(var_query_name)\n",
    "        var_len_query=len(var_query_name)\n",
    "        output_file.write(\" \" * (120 - var_len_query))\n",
    "        output_file.write(line[line.find(\" \")+7:])\n",
    "       \n",
    "        \n",
    "        \n",
    "        \n",
    "input_file.close()\n",
    "output_file.close()\n",
    "\n",
    "input(\"Press Enter to exit\")\n"
   ]
  }
 ],
 "metadata": {
  "kernelspec": {
   "display_name": "Python 3",
   "language": "python",
   "name": "python3"
  },
  "language_info": {
   "codemirror_mode": {
    "name": "ipython",
    "version": 3
   },
   "file_extension": ".py",
   "mimetype": "text/x-python",
   "name": "python",
   "nbconvert_exporter": "python",
   "pygments_lexer": "ipython3",
   "version": "3.7.3"
  }
 },
 "nbformat": 4,
 "nbformat_minor": 2
}
